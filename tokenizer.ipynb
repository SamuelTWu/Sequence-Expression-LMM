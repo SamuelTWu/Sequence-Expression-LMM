{
 "cells": [
  {
   "cell_type": "code",
   "execution_count": 2,
   "metadata": {},
   "outputs": [],
   "source": [
    "#requirements\n",
    "import pandas as pd\n",
    "\n",
    "#for tokenizer\n",
    "import morfessor\n",
    "import math"
   ]
  },
  {
   "cell_type": "markdown",
   "metadata": {},
   "source": [
    "# Repression Prediction vis LLM\n",
    "The linear regression didn't perform very well. Lets try this again but with a LLM trained to the sequence data. In order to have peak performance, we need to make a specific tokenizer for this model. The tokenizer should be able to identify key motifs in the sequence. "
   ]
  },
  {
   "cell_type": "code",
   "execution_count": 3,
   "metadata": {},
   "outputs": [
    {
     "name": "stderr",
     "output_type": "stream",
     "text": [
      ".\n",
      ".\n"
     ]
    },
    {
     "data": {
      "text/plain": [
       "(2, 0.0)"
      ]
     },
     "execution_count": 3,
     "metadata": {},
     "output_type": "execute_result"
    }
   ],
   "source": [
    "#train morfessor model to tokenize words\n",
    "io = morfessor.MorfessorIO()\n",
    "train_data = list(io.read_corpus_file('data_owen/morphemes.txt'))\n",
    "model = morfessor.BaselineModel()\n",
    "\n",
    "def sigmoid(x):\n",
    "   return 5/(1+(math.e**(-(x-3.188))))\n",
    "\n",
    "model.load_data(train_data, count_modifier=sigmoid)\n",
    "model.train_batch()"
   ]
  },
  {
   "cell_type": "code",
   "execution_count": 4,
   "metadata": {},
   "outputs": [],
   "source": [
    "def tokenize_by_word(seq, model):\n",
    "    return \" \".join(model.viterbi_segment(seq, addcount=1,maxlen=7)[0])"
   ]
  },
  {
   "cell_type": "code",
   "execution_count": 10,
   "metadata": {},
   "outputs": [],
   "source": [
    "def tokenize_by_sliding_window(seq, rbp_dict, data_type):\n",
    "    threshold = None\n",
    "    key = ''\n",
    "    if data_type == 'dmitri':\n",
    "        threshold = 3.32\n",
    "        key = 'Mean_RBP'\n",
    "    elif data_type == 'owen':\n",
    "        threshold = 0.954\n",
    "        key = 'ENCFF266PHU'\n",
    "    seq_string = \"\"\n",
    "    for i in range(len(seq)-6):\n",
    "        subseq = seq[i:i+7]\n",
    "        if subseq in rbp_dict and rbp_dict[subseq][key] > threshold:    \n",
    "            seq_string = seq_string+subseq + \" \" \n",
    "    return seq_string"
   ]
  },
  {
   "cell_type": "code",
   "execution_count": 22,
   "metadata": {},
   "outputs": [],
   "source": [
    "#format data by 'morfessor word tokens'\n",
    "def format_data_word_tokens(model):\n",
    "    exp_data = pd.read_csv(\"data/Rabani_expression_A+.csv\")\n",
    "    seq_data = pd.read_csv(\"data/Rabani_oligos.csv\")\n",
    "\n",
    "    #generate ER\n",
    "    er_list = []\n",
    "    token_list = []\n",
    "    count = 0\n",
    "    for ind,row in exp_data.iterrows():\n",
    "        seq_id = exp_data.loc[ind, 'id'] \n",
    "        seq = seq_data.loc[seq_data['id'] == seq_id, 'Sequence'].values\n",
    "        #see if sequence is in seq_data\n",
    "        if seq.size!=0:\n",
    "            er = (exp_data.loc[ind, '6h'] - exp_data.loc[ind, '1h'])/2\n",
    "            er_list.append(er)\n",
    "            token_list.append(tokenize_by_word(seq[0],model))\n",
    "            if count%400==0:\n",
    "                print(\"\")  \n",
    "            elif count%5==0: \n",
    "                print(\".\", end =\"\")\n",
    "        count+=1\n",
    "    #print token_list to text file for tokenizer training\n",
    "    with open(\"data/token_data_word_token.txt\", \"w\") as txt_file:\n",
    "        for line in token_list:\n",
    "            txt_file.write(line+\"\\n\")\n",
    "    df = pd.DataFrame({'Token':token_list,'Expression Rate':er_list})\n",
    "    df.to_csv(\"data/seq_er_word_token.csv\",index=False)"
   ]
  },
  {
   "cell_type": "code",
   "execution_count": 13,
   "metadata": {},
   "outputs": [],
   "source": [
    "#format data by 'sliding window with mean rbp threshold'\n",
    "def format_data_slideing_window(data_type):\n",
    "    exp_data = pd.read_csv(\"data/Rabani_expression_A+.csv\")\n",
    "    seq_data = pd.read_csv(\"data/Rabani_oligos.csv\")\n",
    "    rbp_dict = None\n",
    "    if data_type == 'dmitri':\n",
    "        rbp_dict = pd.read_csv(\"data_dmitri/ZF_7N_PCBP2_vs_Adar-1.csv\")[['Motif', 'Mean_RBP']].set_index('Motif').T.to_dict()\n",
    "    elif data_type == 'owen':\n",
    "        rbp_dict = pd.read_csv(\"data_owen/Bind_n_seq_comparison/Enrichments.csv\")[['Sequence', 'ENCFF266PHU']].set_index('Sequence').T.to_dict()\n",
    "\n",
    "    #generate ER\n",
    "    er_list = []\n",
    "    token_list = []\n",
    "    count = 0\n",
    "    for ind,row in exp_data.iterrows():\n",
    "        seq_id = exp_data.loc[ind, 'id'] \n",
    "        seq = seq_data.loc[seq_data['id'] == seq_id, 'Sequence'].values\n",
    "        #see if sequence is in seq_data\n",
    "        if seq.size!=0:\n",
    "            tokens = tokenize_by_sliding_window(seq[0], rbp_dict, data_type)\n",
    "            if len(tokens) > 0:\n",
    "                er = (exp_data.loc[ind, '6h'] - exp_data.loc[ind, '1h'])/2\n",
    "                er_list.append(er)\n",
    "                token_list.append(tokens)\n",
    "            else:\n",
    "                print(\"*\", end =\"\")\n",
    "            if count%5000==0:\n",
    "                print(\"\")  \n",
    "            elif count%200==0: \n",
    "                print(\".\", end =\"\")\n",
    "        count+=1\n",
    "    #print token_list to text file for tokenizer training\n",
    "    with open(\"data/token_data_sliding_window_\"+data_type+\".txt\", \"w\") as txt_file:\n",
    "        for line in token_list:\n",
    "            txt_file.write(line+\"\\n\")\n",
    "    df = pd.DataFrame({'Token':token_list,'Expression Rate':er_list})\n",
    "    df.to_csv(\"data/seq_er_sliding_window_\"+data_type+\".csv\",index=False)"
   ]
  },
  {
   "cell_type": "code",
   "execution_count": 14,
   "metadata": {},
   "outputs": [
    {
     "name": "stdout",
     "output_type": "stream",
     "text": [
      ".*.*......................\n",
      "........................\n",
      "........................\n",
      "........................\n",
      "....*....................\n",
      "........................\n",
      "...................*.*....\n",
      "...........*.*..........*..\n",
      "........................\n",
      "*........................\n",
      "........................\n",
      "........................\n",
      "...............*.........\n",
      "........................\n",
      "........................\n",
      "........................\n",
      "........................\n",
      "...................*.....\n"
     ]
    }
   ],
   "source": [
    "format_data_slideing_window('owen')"
   ]
  }
 ],
 "metadata": {
  "kernelspec": {
   "display_name": ".venv",
   "language": "python",
   "name": "python3"
  },
  "language_info": {
   "codemirror_mode": {
    "name": "ipython",
    "version": 3
   },
   "file_extension": ".py",
   "mimetype": "text/x-python",
   "name": "python",
   "nbconvert_exporter": "python",
   "pygments_lexer": "ipython3",
   "version": "3.10.5"
  }
 },
 "nbformat": 4,
 "nbformat_minor": 2
}
